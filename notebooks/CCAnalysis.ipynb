{
 "cells": [
  {
   "cell_type": "code",
   "execution_count": 23,
   "id": "4c7d83de",
   "metadata": {},
   "outputs": [],
   "source": [
    "import uproot\n",
    "import numpy as np\n",
    "import pandas as pd\n",
    "import matplotlib.pyplot as plt\n",
    "import os"
   ]
  },
  {
   "cell_type": "code",
   "execution_count": 97,
   "id": "4d7d0f90",
   "metadata": {},
   "outputs": [],
   "source": [
    "path = \"09Nov/\"\n",
    "name = \"09Nov2021_testBeam_muons_1p2GSPS_nominalHV_min15_5k_angle30\"\n",
    "file = uproot.open(f\"{path}{name}.root\")"
   ]
  },
  {
   "cell_type": "code",
   "execution_count": 98,
   "id": "23309682",
   "metadata": {},
   "outputs": [],
   "source": [
    "channel_map_waves = {\n",
    "     \"ch0\" : [],\n",
    "     \"ch1\" : [],\n",
    "     \"ch2\" : [],\n",
    "     \"ch3\" : [],\n",
    "     \"ch4\" : [],\n",
    "     \"ch5\" : [],\n",
    "     \"ch6\" : [],\n",
    "     \"ch7\" : [],\n",
    "     \"ch8\" : [],\n",
    "     \"ch9\" : [],\n",
    "     \"ch10\" : [],\n",
    "     \"ch11\" : [],\n",
    "     \"ch12\" : [],\n",
    "     \"ch13\" : [],\n",
    "     \"ch14\" : [],\n",
    "     \"ch15\" : []\n",
    "}\n",
    "\n",
    "channel_map_times = {\n",
    "     \"ch0\" : [],\n",
    "     \"ch1\" : [],\n",
    "     \"ch2\" : [],\n",
    "     \"ch3\" : [],\n",
    "     \"ch4\" : [],\n",
    "     \"ch5\" : [],\n",
    "     \"ch6\" : [],\n",
    "     \"ch7\" : [],\n",
    "     \"ch8\" : [],\n",
    "     \"ch9\" : [],\n",
    "     \"ch10\" : [],\n",
    "     \"ch11\" : [],\n",
    "     \"ch12\" : [],\n",
    "     \"ch13\" : [],\n",
    "     \"ch14\" : [],\n",
    "     \"ch15\" : []\n",
    "}"
   ]
  },
  {
   "cell_type": "code",
   "execution_count": 99,
   "id": "99dcd0f0",
   "metadata": {},
   "outputs": [],
   "source": [
    "import time, sys\n",
    "from IPython.display import clear_output\n",
    "\n",
    "def update_progress(progress, info=\"\"):\n",
    "    bar_length = 20\n",
    "    if isinstance(progress, int):\n",
    "        progress = float(progress)\n",
    "    if not isinstance(progress, float):\n",
    "        progress = 0\n",
    "    if progress < 0:\n",
    "        progress = 0\n",
    "    if progress >= 1:\n",
    "        progress = 1\n",
    "\n",
    "    block = int(round(bar_length * progress))\n",
    "\n",
    "    clear_output(wait = True)\n",
    "    text = \"{0} - Progress: [{1}] {2:.1f}%\".format( info,\"#\" * block + \"-\" * (bar_length - block), progress * 100)\n",
    "    print(text)"
   ]
  },
  {
   "cell_type": "code",
   "execution_count": 100,
   "id": "00e39b95",
   "metadata": {},
   "outputs": [
    {
     "name": "stdout",
     "output_type": "stream",
     "text": [
      "Loading maps - Progress: [####################] 99.8%\n"
     ]
    }
   ],
   "source": [
    "totevents = 500\n",
    "for ev in np.arange(0,totevents):\n",
    "    for ch in np.arange(0,16):\n",
    "        update_progress(ev/totevents, f\"Loading maps\")\n",
    "        waveform = file[f\"Event{ev}\"][f\"Wafeform{ch}\"].array()[0]\n",
    "        time = file[f\"Event{ev}\"][f\"Time{ch}\"].array()[0]\n",
    "        channel_map_waves[f\"ch{ch}\"].append(waveform)\n",
    "        channel_map_times[f\"ch{ch}\"].append(time)"
   ]
  },
  {
   "cell_type": "code",
   "execution_count": null,
   "id": "b768c835",
   "metadata": {},
   "outputs": [],
   "source": [
    "len(channel_map_times['ch8'])"
   ]
  },
  {
   "cell_type": "code",
   "execution_count": 101,
   "id": "51ed993d",
   "metadata": {},
   "outputs": [],
   "source": [
    "df_w = pd.DataFrame.from_dict(channel_map_waves)\n",
    "df_t = pd.DataFrame.from_dict(channel_map_times)\n",
    "\n",
    "df_w.to_pickle(f\"{path}{name}.pkl\")"
   ]
  },
  {
   "cell_type": "code",
   "execution_count": 65,
   "id": "0ac8ef5f",
   "metadata": {},
   "outputs": [],
   "source": [
    "del channel_map_waves\n",
    "del channel_map_times"
   ]
  },
  {
   "cell_type": "markdown",
   "id": "7cbd0ef3",
   "metadata": {},
   "source": [
    "# Read Pkl file"
   ]
  },
  {
   "cell_type": "code",
   "execution_count": 2,
   "id": "be1cd7c4",
   "metadata": {},
   "outputs": [],
   "source": [
    "df_w = pd.read_pickle(\"./08Nov2021/muons_165GeV_angle60_delay725ns_GSPS1p2_8Nov_0249.pkl\")"
   ]
  },
  {
   "cell_type": "code",
   "execution_count": 3,
   "id": "f34e93fe",
   "metadata": {},
   "outputs": [],
   "source": [
    "totevents = df_w.shape[0]"
   ]
  },
  {
   "cell_type": "code",
   "execution_count": 102,
   "id": "c3631eec",
   "metadata": {},
   "outputs": [],
   "source": [
    "import scipy.signal as spsig\n",
    "from matplotlib import figure\n",
    "\n",
    "def plotSigInEvent(eventNumber = 0):\n",
    "    channel_map_color = {\n",
    "     \"ch0\" : \"b\",\n",
    "     \"ch1\" : \"b\",\n",
    "     \"ch2\" : \"b\",\n",
    "     \"ch3\" : \"b\",\n",
    "     \"ch4\" : \"black\",\n",
    "     \"ch5\" : \"black\",\n",
    "     \"ch6\" : \"black\",\n",
    "     \"ch7\" : \"black\",\n",
    "     \"ch8\" : \"black\",\n",
    "     \"ch9\" : \"black\",\n",
    "     \"ch10\" : \"maroon\",\n",
    "     \"ch11\" : \"maroon\",\n",
    "     \"ch12\" : \"maroon\",\n",
    "     \"ch13\" : \"darkorange\",\n",
    "     \"ch14\" : \"darkorange\",\n",
    "     \"ch15\" : \"darkorange\"\n",
    "    }\n",
    "    if (eventNumber > df_w.shape[0]):\n",
    "        print(\"Event Number out of range\")\n",
    "        return -90\n",
    "    fig = figure.Figure(figsize=(24,20))\n",
    "    axs = fig.subplots(4,4)  #, sharex=\"all\", sharey=\"all\")\n",
    "    for ch in np.arange(0,15):\n",
    "        Row = int(ch / 4)\n",
    "        Column = ch % 4\n",
    "        ax = axs[Row][Column]\n",
    "        \n",
    "        w = np.array(df_w[f\"ch{ch}\"][eventNumber]) - 0.45\n",
    "        t = np.array(df_t[f\"ch{ch}\"][eventNumber])# np.linspace(0,8.5e-7,1024)\n",
    "        \n",
    "        relmin = spsig.argrelmin(w,order=50)\n",
    "        #print(w,relmin)\n",
    "        _ = ax.plot(t,w, channel_map_color[f\"ch{ch}\"])\n",
    "        ax.set_ylim(-0.22,0.1)\n",
    "        ax.tick_params(direction='in', length=6, width=1.1, colors='k',\n",
    "                      grid_color='k', which='major')\n",
    "        ax.tick_params(direction='in', length=3, width=1, colors='k',\n",
    "                      grid_color='k', which='minor')\n",
    "        ax.grid(ls='--',color='grey')\n",
    "\n",
    "    return fig\n"
   ]
  },
  {
   "cell_type": "code",
   "execution_count": 103,
   "id": "ed362b0b",
   "metadata": {},
   "outputs": [
    {
     "name": "stdout",
     "output_type": "stream",
     "text": [
      "Plotting - Progress: [####################] 99.8%\n"
     ]
    }
   ],
   "source": [
    "import matplotlib.backends.backend_pdf\n",
    "outpath = \"PLOTS\"\n",
    "pdf = matplotlib.backends.backend_pdf.PdfPages(os.path.join(outpath,f\"{name}.pdf\"))\n",
    "\n",
    "for ev in np.arange(0,totevents):\n",
    "    update_progress(ev/totevents, f\"Plotting\")\n",
    "    txt = f'Event={ev+1}'\n",
    "    fig = plotSigInEvent(ev)\n",
    "    fig.suptitle(txt)\n",
    "    plt.text(0.05,0.95,txt, transform=fig.transFigure, size=24)\n",
    "    #fig.savefig(os.path.join(outpath,\"event_{0}.png\".format(ev+1)))\n",
    "    pdf.savefig( fig )\n",
    "    plt.close()\n",
    "pdf.close()"
   ]
  },
  {
   "cell_type": "code",
   "execution_count": null,
   "id": "5d4127cb",
   "metadata": {},
   "outputs": [],
   "source": [
    "del fig"
   ]
  },
  {
   "cell_type": "code",
   "execution_count": null,
   "id": "35030c9c",
   "metadata": {},
   "outputs": [],
   "source": [
    "from scipy.interpolate import CubicSpline\n",
    "from matplotlib.gridspec import GridSpec\n",
    "\n",
    "\n",
    "f_s = 1.2e9\n",
    "dt = 1/f_s\n",
    "\n",
    "size = 1024\n",
    "d = np.array(df_w[\"ch13\"][40])\n",
    "    \n",
    "## DFT using numpy routine\n",
    "\n",
    "x  = np.linspace(0.0,size*dt, size)\n",
    "yf = np.fft.fft(d)\n",
    "xf = np.fft.fftfreq(size, dt)\n",
    "xf = np.fft.fftshift(xf)\n",
    "print(xf)\n",
    "yplot = np.fft.fftshift(yf)\n",
    "## Power Spectrum\n",
    "spectrum = np.abs(yplot)**2\n",
    "   \n",
    "## Power Spectrum Cubic Spline Interpolation\n",
    "cs = CubicSpline(xf, spectrum)\n",
    "new_xf = np.linspace(xf.min(), xf.max(), 5760)\n",
    "spectrum_cs = cs(new_xf)\n",
    "plot=True\n",
    "save=False\n",
    "             \n",
    "if plot:\n",
    "    fig = plt.figure(figsize=(30,8))\n",
    "    gs = GridSpec(1, 3, figure=fig)\n",
    "    \n",
    "    ax1 = fig.add_subplot(gs[0, :-1])\n",
    "    color = 'xkcd:crimson'\n",
    "    ax1.set_xlabel('time (s)')\n",
    "    ax1.set_ylabel('V')\n",
    "    ax1.tick_params(axis='y')#, labelcolor=color)\n",
    "    ax1.plot(np.linspace(0,d.size,size)*dt,d, color=color, ls='--')\n",
    " \n",
    "    ax2 = fig.add_subplot(gs[0, -1])\n",
    "    ax2.plot(xf, 1.0/size * spectrum)\n",
    "    #ax2.plot(new_xf, 1.0/size * spectrum_cs,':')\n",
    "    ax2.set_xlabel(\"f [Hz]\")\n",
    "    ax2.set_title(\"Power Spectrum\")\n",
    "    ax2.set_xlim(0,0.6e9)\n",
    "    ax2.set_yscale('log')\n",
    "    if save:\n",
    "        plt.savefig(f\"fft_window_{tag}.png\", bbox_inches='tight')\n",
    "        plt.close()\n"
   ]
  },
  {
   "cell_type": "code",
   "execution_count": null,
   "id": "c02e99fe",
   "metadata": {},
   "outputs": [],
   "source": [
    "sp.fft(df_w[f\"ch7\"][42])"
   ]
  },
  {
   "cell_type": "code",
   "execution_count": null,
   "id": "7d160abe",
   "metadata": {},
   "outputs": [],
   "source": []
  }
 ],
 "metadata": {
  "kernelspec": {
   "display_name": "Python 3",
   "language": "python",
   "name": "python3"
  },
  "language_info": {
   "codemirror_mode": {
    "name": "ipython",
    "version": 3
   },
   "file_extension": ".py",
   "mimetype": "text/x-python",
   "name": "python",
   "nbconvert_exporter": "python",
   "pygments_lexer": "ipython3",
   "version": "3.9.6"
  }
 },
 "nbformat": 4,
 "nbformat_minor": 5
}
